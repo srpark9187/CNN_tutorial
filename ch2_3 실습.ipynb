{
 "cells": [
  {
   "attachments": {},
   "cell_type": "markdown",
   "id": "ff094f04",
   "metadata": {},
   "source": [
    "## 다중 분류 - Softmax\n",
    "\n",
    "4개의 input (x1,x2,x3,x4)를 이용하여 y 값을 분류하는 모델 개발\n",
    "이때 분류되는 y값은 0, 1, 2 총 3가지 이므로 다중 분류에 해당함."
   ]
  },
  {
   "attachments": {
    "image.png": {
     "image/png": "[encoded data removed]"
    }
   },
   "cell_type": "markdown",
   "id": "24d1ec66",
   "metadata": {},
   "source": [
    "### 다중분류 데이터 생성 / One-hot encoding\n",
    "![image.png](attachment:image.png)"
   ]
  },
  {
   "cell_type": "code",
   "execution_count": 1,
   "id": "9290fb5d",
   "metadata": {},
   "outputs": [
    {
     "name": "stdout",
     "output_type": "stream",
     "text": [
      "[0. 1. 2.]\n",
      "[2. 2. 2. 1. 1. 1. 0. 0.]\n",
      "tf.Tensor(\n",
      "[[0. 0. 1.]\n",
      " [0. 0. 1.]\n",
      " [0. 0. 1.]\n",
      " [0. 1. 0.]\n",
      " [0. 1. 0.]\n",
      " [0. 1. 0.]\n",
      " [1. 0. 0.]\n",
      " [1. 0. 0.]], shape=(8, 3), dtype=float32)\n",
      "x shape: (8, 4)\n",
      "y shape: (8, 3)\n"
     ]
    }
   ],
   "source": [
    "import tensorflow as tf \n",
    "import numpy as np\n",
    "import matplotlib.pyplot as plt\n",
    "\n",
    "tf.random.set_seed(0)\n",
    "\n",
    "# 1. 데이터 생성\n",
    "x_data = [[1, 2, 1, 1], [2, 1, 3, 2], [3, 1, 3, 4], [4, 1, 5, 5], [1, 7, 5, 5], [1, 2, 5, 6], [1, 6, 6, 6], [1, 7, 7, 7]]\n",
    "y_data = [2, 2, 2, 1, 1, 1, 0, 0]  # 수정된 y_data\n",
    "\n",
    "# numpy 배열로 변환 및 데이터 타입 설정\n",
    "x_data = np.asarray(x_data, dtype=np.float32) \n",
    "y_data = np.asarray(y_data, dtype=np.float32)\n",
    "\n",
    "print(np.unique(y_data)) # 유니크한 y 값 출력\n",
    "nb_classes = 3 # 클래스 개수 설정\n",
    "\n",
    "# y_data를 원-핫 인코딩으로 변환\n",
    "print(y_data)\n",
    "y_data = tf.one_hot(y_data.astype(np.int32), nb_classes)\n",
    "print(y_data)\n",
    "# x_data와 y_data의 shape 출력\n",
    "print('x shape:', x_data.shape)\n",
    "print('y shape:', y_data.shape)\n"
   ]
  },
  {
   "cell_type": "markdown",
   "id": "a8ffe3a8",
   "metadata": {},
   "source": [
    " ### 다중 분류 모델 및 함수 정의\n"
   ]
  },
  {
   "cell_type": "code",
   "execution_count": 2,
   "id": "eb9c63a7",
   "metadata": {},
   "outputs": [],
   "source": [
    "def model(X):\n",
    "    return tf.nn.softmax(tf.matmul(X, W) + b)\n",
    "\n",
    "\n",
    "def loss_fn(y_true, y_logits):\n",
    "    #logits = model(X)\n",
    "    cost = -tf.reduce_sum(y_true * tf.math.log(y_logits), axis=1)  # 수정: 비용 계산 부분\n",
    "    cost_mean = tf.reduce_mean(cost)\n",
    "    return cost_mean\n",
    "\n",
    "#loss_fn = tf.keras.losses.CategoricalCrossentropy()\n",
    "\n",
    "#def loss_fn(X, Y):\n",
    "    #logits = model(X)\n",
    "    #cost = -tf.reduce_sum(Y * tf.math.log(logits), axis=1)  # 수정: 비용 계산 부분\n",
    "    #cost_mean = tf.reduce_mean(cost)\n",
    "    #return cost_mean\n",
    "\n",
    "def accuracy_fn(predicted, labels):\n",
    "    accuracy = tf.reduce_mean(tf.cast(tf.equal(predicted, labels), dtype=tf.float32))\n",
    "    return accuracy\n"
   ]
  },
  {
   "cell_type": "markdown",
   "id": "3f7794a4",
   "metadata": {},
   "source": [
    "### 다중 분류 학습 및 예측\n"
   ]
  },
  {
   "cell_type": "code",
   "execution_count": 3,
   "id": "6cd812a2",
   "metadata": {
    "scrolled": true
   },
   "outputs": [
    {
     "name": "stdout",
     "output_type": "stream",
     "text": [
      "(4, 3) (8, 4)\n",
      "Loss at epoch   100: 0.7918\n",
      "Loss at epoch   200: 0.6929\n",
      "Loss at epoch   300: 0.6321\n",
      "Loss at epoch   400: 0.5812\n",
      "Loss at epoch   500: 0.5339\n",
      "Loss at epoch   600: 0.4882\n",
      "Loss at epoch   700: 0.4432\n",
      "Loss at epoch   800: 0.3984\n",
      "Loss at epoch   900: 0.3535\n",
      "Loss at epoch  1000: 0.3087\n",
      "Loss at epoch  1100: 0.2659\n",
      "Loss at epoch  1200: 0.2381\n",
      "Loss at epoch  1300: 0.2262\n",
      "Loss at epoch  1400: 0.2157\n",
      "Loss at epoch  1500: 0.2060\n",
      "Loss at epoch  1600: 0.1972\n",
      "Loss at epoch  1700: 0.1890\n",
      "Loss at epoch  1800: 0.1814\n",
      "Loss at epoch  1900: 0.1744\n",
      "Loss at epoch  2000: 0.1679\n",
      "Label: [2 2 2 1 1 1 0 0]\n",
      "Pred: [2 2 2 1 1 1 0 0]\n",
      "Accuracy: 1.0\n"
     ]
    }
   ],
   "source": [
    "# 훈련 설정\n",
    "EPOCHS = 2000\n",
    "W = tf.Variable(tf.random.normal((4, nb_classes)), name='weight')\n",
    "b = tf.Variable(tf.random.normal((nb_classes,)), name='bias')\n",
    "variables = [W, b]\n",
    "optimizer = tf.keras.optimizers.SGD(learning_rate=0.1)\n",
    "print(W.shape, x_data.shape)\n",
    "# 훈련 루프\n",
    "for i in range(EPOCHS):\n",
    "    with tf.GradientTape() as tape:\n",
    "        #loss = loss_fn(x_data, y_data)\n",
    "        y_logits = model(x_data)\n",
    "        loss = loss_fn(y_data, y_logits)\n",
    "    grads = tape.gradient(loss, variables)\n",
    "    optimizer.apply_gradients(zip(grads, variables))\n",
    "    if (i + 1) % 100 == 0:\n",
    "        print('Loss at epoch {:5}: {:5.4f}'.format(i + 1, loss.numpy()))\n",
    "print('Label:', np.argmax(y_data, 1))\n",
    "print('Pred:', np.argmax(model(x_data).numpy(), 1))\n",
    "print('Accuracy:', accuracy_fn(np.argmax(model(x_data).numpy(), 1), np.argmax(y_data, 1)).numpy())\n"
   ]
  },
  {
   "attachments": {},
   "cell_type": "markdown",
   "id": "0d12cea9",
   "metadata": {},
   "source": [
    "### 실습. 삼각형 분류 문제\n",
    "\n",
    "\n",
    "3번의 길이 (x1, x2, x3) 가 주어졌을 떄 삼각형이 예각인지 둔각인지 정삼각형이 맞추는 모델 개발  \n",
    "'triangle_dataset.csv' 파일에는 새변의 길이와 예각삼각형(2), 정삼각형(0), 둔각삼각형(1)의 정보로 구성되어 있습니다.  \n",
    "각 변의 길이는 원할한 학습을 위해 길이가 짧은 순으로 정렬되어 있습니다.  \n"
   ]
  },
  {
   "cell_type": "code",
   "execution_count": null,
   "id": "492451b7",
   "metadata": {},
   "outputs": [],
   "source": []
  }
 ],
 "metadata": {
  "kernelspec": {
   "display_name": "Python 3 (ipykernel)",
   "language": "python",
   "name": "python3"
  },
  "language_info": {
   "codemirror_mode": {
    "name": "ipython",
    "version": 3
   },
   "file_extension": ".py",
   "mimetype": "text/x-python",
   "name": "python",
   "nbconvert_exporter": "python",
   "pygments_lexer": "ipython3",
   "version": "3.8.10"
  }
 },
 "nbformat": 4,
 "nbformat_minor": 5
}
